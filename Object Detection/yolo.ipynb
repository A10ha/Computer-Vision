{
 "cells": [
  {
   "cell_type": "code",
   "execution_count": 1,
   "metadata": {},
   "outputs": [
    {
     "name": "stdout",
     "output_type": "stream",
     "text": [
      "WARNING:tensorflow:From /home/sd/.local/lib/python3.8/site-packages/tensorflow/python/compat/v2_compat.py:96: disable_resource_variables (from tensorflow.python.ops.variable_scope) is deprecated and will be removed in a future version.\n",
      "Instructions for updating:\n",
      "non-resource variables are not supported in the long term\n"
     ]
    },
    {
     "name": "stderr",
     "output_type": "stream",
     "text": [
      "/home/sd/.local/lib/python3.8/site-packages/skimage/io/manage_plugins.py:23: UserWarning: Your installed pillow version is < 7.1.0. Several security issues (CVE-2020-11538, CVE-2020-10379, CVE-2020-10994, CVE-2020-10177) have been fixed in pillow 7.1.0 or higher. We recommend to upgrade this library.\n",
      "  from .collection import imread_collection_wrapper\n"
     ]
    }
   ],
   "source": [
    "import os\n",
    "import sys\n",
    "import numpy as np\n",
    "import tensorflow.compat.v1 as tf\n",
    "tf.disable_v2_behavior()\n",
    "import random\n",
    "import math\n",
    "import warnings\n",
    "import pandas as pd\n",
    "import cv2\n",
    "import matplotlib.pyplot as plt\n",
    "import matplotlib.cm as cm\n",
    "import matplotlib.ticker as ticker\n",
    "\n",
    "from tqdm import tqdm\n",
    "from itertools import chain\n",
    "from skimage.io import imread, imshow, imread_collection, concatenate_images\n",
    "from skimage.transform import resize\n",
    "from skimage.morphology import label\n",
    "\n",
    "warnings.filterwarnings('ignore', category=UserWarning, module='skimage')\n",
    "seed = 19\n",
    "random.seed = seed\n",
    "np.random.seed = seed"
   ]
  },
  {
   "cell_type": "code",
   "execution_count": 2,
   "metadata": {},
   "outputs": [],
   "source": [
    "IMG_WIDTH = 384\n",
    "IMG_HEIGHT = 384\n",
    "IMG_CHANNELS = 3\n",
    "\n",
    "TRAIN_PATH = '/home/sd/zsq_python/YOLO/stage1_train'\n",
    "TEST_PATH = '/home/sd/zsq_python/YOLO/stage1_test'"
   ]
  },
  {
   "cell_type": "code",
   "execution_count": 3,
   "metadata": {},
   "outputs": [],
   "source": [
    "train_ids = next(os.walk(TRAIN_PATH))[1]\n",
    "test_ids = next(os.walk(TEST_PATH))[1]\n",
    "\n",
    "train_images = np.zeros((len(train_ids), IMG_HEIGHT, IMG_WIDTH, IMG_CHANNELS), dtype=np.uint8)\n",
    "test_images = np.zeros((len(test_ids), IMG_HEIGHT, IMG_WIDTH, IMG_CHANNELS), dtype=np.uint8)"
   ]
  },
  {
   "cell_type": "code",
   "execution_count": 4,
   "metadata": {},
   "outputs": [
    {
     "name": "stdout",
     "output_type": "stream",
     "text": [
      "resize train images... \n"
     ]
    },
    {
     "name": "stderr",
     "output_type": "stream",
     "text": [
      "100%|██████████| 670/670 [00:26<00:00, 25.06it/s]"
     ]
    },
    {
     "name": "stdout",
     "output_type": "stream",
     "text": [
      "resize test images ... \n"
     ]
    },
    {
     "name": "stderr",
     "output_type": "stream",
     "text": [
      "\n",
      "100%|██████████| 65/65 [00:02<00:00, 24.22it/s]"
     ]
    },
    {
     "name": "stdout",
     "output_type": "stream",
     "text": [
      "Done!\n"
     ]
    },
    {
     "name": "stderr",
     "output_type": "stream",
     "text": [
      "\n"
     ]
    }
   ],
   "source": [
    "# Resize train images.\n",
    "print('resize train images... ')\n",
    "sys.stdout.flush()\n",
    "\n",
    "for n, id_ in tqdm(enumerate(train_ids), total=len(train_ids)):\n",
    "    path = TRAIN_PATH + \"/\" + id_\n",
    "    img = imread(path + '/images/' + id_ + '.png')[:,:,:IMG_CHANNELS]\n",
    "    img = resize(img, (IMG_HEIGHT, IMG_WIDTH), mode='constant', preserve_range=True)\n",
    "    \n",
    "    train_images[n] = img\n",
    "    \n",
    "# Get and resize test images\n",
    "sizes_test = []\n",
    "print('resize test images ... ')\n",
    "sys.stdout.flush()\n",
    "\n",
    "for n, id_ in tqdm(enumerate(test_ids), total=len(test_ids)):\n",
    "    path = TEST_PATH + \"/\" + id_\n",
    "    img = imread(path + '/images/' + id_ + '.png')[:,:,:IMG_CHANNELS]\n",
    "    sizes_test.append([img.shape[0], img.shape[1]])\n",
    "    img = resize(img, (IMG_HEIGHT, IMG_WIDTH), mode='constant', preserve_range=True)\n",
    "    test_images[n] = img\n",
    "\n",
    "print('Done!')"
   ]
  },
  {
   "cell_type": "code",
   "execution_count": 5,
   "metadata": {},
   "outputs": [],
   "source": [
    "def store_bounding_boxes(img, train_id, mask_id, rotby_90):\n",
    "    ret, thresh = cv2.threshold(img, 127, 255, 0)\n",
    "    contours = cv2.findContours(thresh.astype(np.uint8), 1, 2)\n",
    "    cnt = contours[0]\n",
    "        \n",
    "    x, y, w, h = cv2.boundingRect(cnt)    \n",
    "    \n",
    "    x = x * (IMG_WIDTH/img.shape[1])\n",
    "    w = w * (IMG_WIDTH/img.shape[1])\n",
    "    y = y * (IMG_WIDTH/img.shape[0])\n",
    "    h = h * (IMG_WIDTH/img.shape[0])\n",
    "    \n",
    "    if(x > IMG_WIDTH-1):\n",
    "        x = IMG_WIDTH-1\n",
    "    if(y > IMG_HEIGHT-1):\n",
    "        y = IMG_HEIGHT-1\n",
    "    if(x+w > IMG_WIDTH-1):\n",
    "        w = IMG_WIDTH-1 - x\n",
    "    if(y+h > IMG_HEIGHT-1):\n",
    "        h = IMG_HEIGHT-1 - y\n",
    "        \n",
    "    bbdict = { \"train_id\": train_id, \"mask_id\": mask_id, \"rotby_90\": rotby_90, \"x\": x, \"y\": y, \"w\": w, \"h\": h}\n",
    "    return bbdict"
   ]
  },
  {
   "cell_type": "code",
   "execution_count": 6,
   "metadata": {},
   "outputs": [],
   "source": [
    "path_bboxes_csv = \"/home/sd/zsq_python/YOLO/bboxes.csv\"\n",
    "if not os.path.isfile(path_bboxes_csv):\n",
    "    bboxes = pd.DataFrame(columns=[\"train_id\", \"mask_id\", \"rotby_90\", \"x\", \"y\", \"w\", \"h\"])\n",
    "    row_count = 1\n",
    "    for n, id_ in tqdm(enumerate(train_ids), total=len(train_ids)):\n",
    "        path = TRAIN_PATH + \"/\" + id_\n",
    "        for mask_id, mask_file in enumerate(next(os.walk(path + '/masks/'))[2]):\n",
    "            mask_ = imread(path + '/masks/' + mask_file)\n",
    "            for r in range(4):\n",
    "                bboxes.loc[row_count] = store_bounding_boxes(np.rot90(mask_, r), id_, mask_id, r)\n",
    "                row_count += 1\n",
    "    bboxes.to_csv(path_bboxes_csv, index=False)\n",
    "else:\n",
    "    bboxes = pd.read_csv(path_bboxes_csv)"
   ]
  },
  {
   "cell_type": "code",
   "execution_count": 7,
   "metadata": {},
   "outputs": [],
   "source": [
    "GRID_DIM = 12\n",
    "GRID_PIX = IMG_WIDTH//GRID_DIM\n",
    "BATCH_SIZE = 14"
   ]
  },
  {
   "cell_type": "code",
   "execution_count": 8,
   "metadata": {},
   "outputs": [
    {
     "name": "stderr",
     "output_type": "stream",
     "text": [
      "100%|██████████| 670/670 [00:03<00:00, 200.01it/s]\n"
     ]
    }
   ],
   "source": [
    "train_ids_df = pd.DataFrame(columns=[\"idx\", \"id_\"])\n",
    "cnt = 0\n",
    "for n, id_ in tqdm(enumerate(train_ids), total=len(train_ids)):\n",
    "    train_ids_df.loc[cnt] = { \"idx\": n, \"id_\": id_}\n",
    "    cnt += 1\n",
    "\n",
    "train_ids_df = train_ids_df.set_index(['idx'])"
   ]
  },
  {
   "cell_type": "code",
   "execution_count": 9,
   "metadata": {},
   "outputs": [],
   "source": [
    "bboxes['grid_row'] = bboxes['y']//GRID_PIX\n",
    "bboxes['grid_column'] = bboxes['x']//GRID_PIX\n",
    "\n",
    "bboxes['grid_center_x'] = bboxes['grid_column'] * GRID_PIX + GRID_PIX/2\n",
    "bboxes['grid_center_y'] = bboxes['grid_row'] * GRID_PIX + GRID_PIX/2\n",
    "\n",
    "bboxes['box_center_x'] = bboxes.x + bboxes['w']/2\n",
    "bboxes['box_center_y'] = bboxes.y + bboxes['h']/2\n",
    "\n",
    "bboxes['new_x'] = (bboxes.box_center_x - bboxes.grid_center_x)/(IMG_WIDTH)\n",
    "bboxes['new_y'] = (bboxes.box_center_y - bboxes.grid_center_y)/(IMG_HEIGHT)\n",
    "\n",
    "bboxes['new_w'] = np.sqrt(bboxes.w/(IMG_WIDTH))\n",
    "bboxes['new_h'] = np.sqrt(bboxes.h/(IMG_WIDTH))\n",
    "\n",
    "bboxes['confidence'] = 1\n",
    "\n",
    "bboxes['box_area'] = bboxes.new_w*bboxes.new_h"
   ]
  },
  {
   "cell_type": "code",
   "execution_count": 10,
   "metadata": {},
   "outputs": [],
   "source": [
    "mask_count = 1\n",
    "#Set maximum bounding boxes allowed per grid cell\n",
    "MAX_BB_CNT = 2"
   ]
  },
  {
   "cell_type": "code",
   "execution_count": 11,
   "metadata": {},
   "outputs": [],
   "source": [
    "def get_grid_info(tr_id, rotby_90):\n",
    "    df = bboxes.loc[(bboxes.train_id == tr_id) & (bboxes.rotby_90 == rotby_90), 'grid_row':'box_area']\n",
    "    df.drop(['grid_center_x', 'grid_center_y','box_center_x', 'box_center_y',], axis = 1, inplace=True)\n",
    "    df = df.sort_values(['grid_column', 'grid_row', 'box_area'], ascending=False)\n",
    "    #print(len(df))\n",
    "    global mask_count\n",
    "    mask_count += len(df)\n",
    "    label_info = np.zeros(shape=(GRID_DIM, GRID_DIM, MAX_BB_CNT, 5),  dtype=np.float32) + 0.000001\n",
    "    \n",
    "    for ind, row in df.iterrows():\n",
    "        i = int(row[0])\n",
    "        j = int(row[1])\n",
    "        for b in range(MAX_BB_CNT):\n",
    "            if(label_info[i, j, b][4] != 1.0):\n",
    "                label_info[i, j, b] = np.array(row[2:7])\n",
    "                break\n",
    "    return label_info"
   ]
  },
  {
   "cell_type": "code",
   "execution_count": 12,
   "metadata": {},
   "outputs": [],
   "source": [
    "def get_labels(counts, rotations):\n",
    "    grid_info = np.zeros(shape=(BATCH_SIZE, GRID_DIM, GRID_DIM, MAX_BB_CNT, 5), dtype=np.float32)\n",
    "    for i, c in enumerate(counts):\n",
    "        tr_id = train_ids_df.loc[c, 'id_']\n",
    "        grid_info[i] = get_grid_info(tr_id, rotations[i])\n",
    "    grid_info = np.reshape(grid_info, newshape=[BATCH_SIZE, GRID_DIM, GRID_DIM, MAX_BB_CNT, 5])\n",
    "    return grid_info"
   ]
  },
  {
   "cell_type": "code",
   "execution_count": 13,
   "metadata": {},
   "outputs": [],
   "source": [
    "def get_images(counts, rotations):\n",
    "    images = np.zeros(shape=(BATCH_SIZE, IMG_WIDTH, IMG_HEIGHT, IMG_CHANNELS), dtype=np.uint8)\n",
    "    for i, c in enumerate(counts):\n",
    "        images[i] = np.rot90(train_images[c], rotations[i])\n",
    "    return images"
   ]
  },
  {
   "cell_type": "code",
   "execution_count": 14,
   "metadata": {},
   "outputs": [],
   "source": [
    "def next_batch():\n",
    "    rotations = []\n",
    "    rand_counts = []\n",
    "    for i in range(BATCH_SIZE):\n",
    "        rotations.append(random.randint(0, 3))\n",
    "        rand_counts.append(random.randint(0, 669))\n",
    "    return get_images(rand_counts, rotations), get_labels(rand_counts, rotations)"
   ]
  },
  {
   "cell_type": "code",
   "execution_count": 15,
   "metadata": {},
   "outputs": [],
   "source": [
    "tf.reset_default_graph()\n",
    "X = tf.placeholder(tf.float32, [None, IMG_WIDTH, IMG_HEIGHT, 3])\n",
    "Y_ = tf.placeholder(tf.float32, [None, GRID_DIM, GRID_DIM, MAX_BB_CNT, 5])\n",
    "lr = tf.placeholder(tf.float32)"
   ]
  },
  {
   "cell_type": "code",
   "execution_count": 16,
   "metadata": {},
   "outputs": [],
   "source": [
    "def process_logits(logits, name=None):\n",
    "    net = tf.reshape(logits, [-1, GRID_DIM*1, GRID_DIM*1, MAX_BB_CNT*5*16, 1])\n",
    "    net = tf.layers.average_pooling3d(net, [1, 1, 16], [1, 1, 16], padding=\"valid\")\n",
    "\n",
    "    net = tf.reshape(net, [-1, GRID_DIM*GRID_DIM*MAX_BB_CNT, 5]) #GRID_DIM = 12\n",
    "    net = tf.transpose(net, [1, 2, 0])        \n",
    "\n",
    "    logits_tensor = tf.map_fn(lambda x:\n",
    "                            tf.stack([\n",
    "                                tf.tanh(x[0]),\n",
    "                                tf.tanh(x[1]),\n",
    "                                tf.sqrt(tf.sigmoid(x[2])),\n",
    "                                tf.sqrt(tf.sigmoid(x[3])),\n",
    "                                tf.sigmoid(x[4])\n",
    "                            ]), net)\n",
    "\n",
    "    logits_tensor = tf.transpose(logits_tensor, [2, 0, 1])\n",
    "    logits_tensor = tf.reshape(logits_tensor, [-1, GRID_DIM, GRID_DIM, MAX_BB_CNT, 5])\n",
    "\n",
    "    return logits_tensor"
   ]
  },
  {
   "cell_type": "code",
   "execution_count": 17,
   "metadata": {},
   "outputs": [],
   "source": [
    "def normalize_yolo_loss(processed_logits, lambda_coords, lambda_noobj):\n",
    "    yolo_loss = tf.reduce_sum(tf.squared_difference(labels, processed_logits), axis=0)\n",
    "    yolo_loss = tf.reduce_sum(yolo_loss, axis=0)\n",
    "    yolo_loss = tf.reduce_sum(yolo_loss, axis=0)\n",
    "    yolo_loss = tf.reduce_sum(yolo_loss, axis=0)\n",
    "\n",
    "    yolo_loss = tf.stack([tf.multiply(lambda_coords, yolo_loss[0]), \n",
    "                          tf.multiply(lambda_coords, yolo_loss[1]),\n",
    "                          yolo_loss[2],\n",
    "                          yolo_loss[3],\n",
    "                          tf.multiply(lambda_noobj,yolo_loss[4])])\n",
    "    yolo_loss = tf.reduce_sum(yolo_loss)\n",
    "\n",
    "    return  yolo_loss"
   ]
  },
  {
   "cell_type": "code",
   "execution_count": 18,
   "metadata": {},
   "outputs": [],
   "source": [
    "def l_relu(features):\n",
    "    return tf.nn.leaky_relu(features, 0.1)"
   ]
  },
  {
   "cell_type": "code",
   "execution_count": 19,
   "metadata": {},
   "outputs": [],
   "source": [
    "# Below code need optimization may be by using Variable Scope.\n",
    "def squeeze_module(x, dim, idx):\n",
    "    name = 'conv_' + idx + '_sq'\n",
    "    return tf.layers.conv2d(x, filters=dim, kernel_size=1, strides=1, padding=\"same\", \n",
    "                           activation=l_relu, name=name)\n",
    "\n",
    "def expand_module(x, dim, idx):\n",
    "    name = 'conv_' + idx + '_ex_' + '0'\n",
    "    net1 = tf.layers.conv2d(x, filters=dim, kernel_size=1, strides=1, padding=\"same\", \n",
    "                           activation=l_relu, name=name)\n",
    "    name = 'conv_' + idx + '_ex_' + '1'\n",
    "    net2 = tf.layers.conv2d(x, filters=dim, kernel_size=3, strides=1, padding=\"same\", \n",
    "                           activation=l_relu, name=name) \n",
    "    return tf.concat([net1, net2], 3)"
   ]
  },
  {
   "cell_type": "code",
   "execution_count": 20,
   "metadata": {},
   "outputs": [],
   "source": [
    "def fire_module(input_tensor, squeeze_dim, expand_dim, idx):\n",
    "    net = squeeze_module(input_tensor, squeeze_dim, idx)\n",
    "    net = expand_module(net, expand_dim, idx)\n",
    "    return net"
   ]
  },
  {
   "cell_type": "code",
   "execution_count": 21,
   "metadata": {},
   "outputs": [
    {
     "name": "stderr",
     "output_type": "stream",
     "text": [
      "/home/sd/.local/lib/python3.8/site-packages/tensorflow/python/keras/legacy_tf_layers/convolutional.py:414: UserWarning: `tf.layers.conv2d` is deprecated and will be removed in a future version. Please Use `tf.keras.layers.Conv2D` instead.\n",
      "  warnings.warn('`tf.layers.conv2d` is deprecated and '\n",
      "/home/sd/.local/lib/python3.8/site-packages/tensorflow/python/keras/engine/base_layer_v1.py:1692: UserWarning: `layer.apply` is deprecated and will be removed in a future version. Please use `layer.__call__` method instead.\n",
      "  warnings.warn('`layer.apply` is deprecated and '\n",
      "/home/sd/.local/lib/python3.8/site-packages/tensorflow/python/keras/legacy_tf_layers/pooling.py:310: UserWarning: `tf.layers.max_pooling2d` is deprecated and will be removed in a future version. Please use `tf.keras.layers.MaxPooling2D` instead.\n",
      "  warnings.warn('`tf.layers.max_pooling2d` is deprecated and '\n",
      "/home/sd/.local/lib/python3.8/site-packages/tensorflow/python/keras/legacy_tf_layers/pooling.py:388: UserWarning: `tf.layers.average_pooling3d` is deprecated and will be removed in a future version. Please use `tf.keras.layers.AveragePooling3D` instead.\n",
      "  warnings.warn('`tf.layers.average_pooling3d` is deprecated and '\n"
     ]
    }
   ],
   "source": [
    "# Below code need optimization may be by using Variable Scope.\n",
    "\n",
    "net = tf.layers.conv2d(X, filters=32, kernel_size=1, strides=1, padding=\"same\", \n",
    "                       activation=l_relu, name='conv0') #384 \n",
    "\n",
    "net = tf.layers.max_pooling2d(net, pool_size=2, strides=2, padding=\"same\") #192\n",
    "\n",
    "net = fire_module(net, 32, 64, '0')\n",
    "net = fire_module(net, 32, 64, '1')\n",
    "net = fire_module(net, 32, 64, '2')\n",
    "\n",
    "net = tf.layers.max_pooling2d(net, pool_size=2, strides=2, padding=\"same\") #96\n",
    "\n",
    "\n",
    "net = fire_module(net, 64, 96, '3')\n",
    "net = fire_module(net, 64, 96, '4')\n",
    "net = fire_module(net, 64, 96, '5')\n",
    "\n",
    "\n",
    "net = tf.layers.max_pooling2d(net, pool_size=2, strides=2, padding=\"same\") #48\n",
    "\n",
    "net = fire_module(net, 128, 160, '6')\n",
    "net = fire_module(net, 128, 160, '7') \n",
    "net = fire_module(net, 128, 128, '8')\n",
    "\n",
    "\n",
    "net = tf.layers.max_pooling2d(net, pool_size=2, strides=2, padding=\"same\") #24\n",
    "\n",
    "net = fire_module(net, 256, 512, '9')\n",
    "net = fire_module(net, 256, 512, '10')\n",
    "net = fire_module(net, 256, 512, '11')\n",
    "\n",
    "net = tf.layers.max_pooling2d(net, pool_size=2, strides=2, padding=\"same\") #12\n",
    "\n",
    "net = fire_module(net, 512, 1024, '12')\n",
    "net = fire_module(net, 512, 1024, '13')\n",
    "net = fire_module(net, 512, 1024, '14')\n",
    "\n",
    "logits = tf.layers.conv2d(net, filters=MAX_BB_CNT*5*16, kernel_size=1, strides=1, padding=\"same\",\n",
    "                       activation=None, name='conv40') #12\n",
    "\n",
    "processed_logits = process_logits(logits)\n",
    "\n",
    "labels = Y_\n",
    "\n",
    "lambda_coords = tf.constant(5.0)\n",
    "lambda_noobj = tf.constant(0.5)\n",
    "\n",
    "yolo_loss = normalize_yolo_loss(processed_logits, lambda_coords, lambda_noobj)\n",
    "\n",
    "train_op = tf.train.AdamOptimizer(lr).minimize(yolo_loss)"
   ]
  },
  {
   "cell_type": "code",
   "execution_count": 22,
   "metadata": {},
   "outputs": [
    {
     "name": "stdout",
     "output_type": "stream",
     "text": [
      "INFO:tensorflow:Restoring parameters from /home/sd/zsq_python/YOLO/model/model.ckpt\n"
     ]
    }
   ],
   "source": [
    "start_training = False #using pretrained model as Kaggle server doesn't allow training time more than 6 hrs.\n",
    "if not start_training:\n",
    "    test_image_id = 33\n",
    "    saver = tf.train.Saver()\n",
    "    with tf.Session() as sess:\n",
    "        saver.restore(sess, \"/home/sd/zsq_python/YOLO/model/model.ckpt\")\n",
    "        result = sess.run([processed_logits], {X: np.reshape(test_images[test_image_id], [1, 384, 384, 3])})"
   ]
  },
  {
   "cell_type": "code",
   "execution_count": 23,
   "metadata": {},
   "outputs": [
    {
     "name": "stdout",
     "output_type": "stream",
     "text": [
      "(1, 12, 12, 2, 5)\n"
     ]
    }
   ],
   "source": [
    "if(start_training):\n",
    "    # initialize\n",
    "    init = tf.global_variables_initializer()\n",
    "    sess = tf.Session()\n",
    "    sess.run(init)\n",
    "\n",
    "    batch_count = 0\n",
    "    display_count = 1\n",
    "    global mask_count\n",
    "\n",
    "    for i in range(33000):\n",
    "        batch_X, batch_Y = next_batch()\n",
    "        batch_count += 1\n",
    "        train_loss, _ = sess.run([yolo_loss, train_op], {X: batch_X, Y_: batch_Y, lr: 0.0001})\n",
    "\n",
    "        if(i % 100 == 0):\n",
    "            print(str(display_count) + \" training loss(\" + str(mask_count) + \"): \" + str(train_loss))\n",
    "            display_count +=1\n",
    "        mask_count = 0\n",
    "    print(\"Done!\")\n",
    "if(start_training):\n",
    "    test_image_id = 14\n",
    "    result = sess.run([processed_logits], {X: np.reshape(test_images[test_image_id], [1, 384, 384, 3])})\n",
    "boxes = result[0]\n",
    "print(boxes.shape)\n",
    "boxes = np.reshape(boxes, newshape=[GRID_DIM, GRID_DIM, MAX_BB_CNT, 5])\n",
    "bbs = []\n",
    "\n",
    "for i in range(GRID_DIM):\n",
    "    for j in range(GRID_DIM):\n",
    "        for b in range(MAX_BB_CNT):\n",
    "            if(boxes[i][j][b][4]> 0.1):\n",
    "                grid_center_x = ((j+0)*GRID_PIX + GRID_PIX/2)\n",
    "                grid_center_y = ((i+0)*GRID_PIX + GRID_PIX/2)\n",
    "                \n",
    "                new_box_center_x = boxes[i][j][b][0] * IMG_WIDTH + grid_center_x\n",
    "                new_box_center_y = boxes[i][j][b][1] * IMG_HEIGHT + grid_center_y\n",
    "\n",
    "                new_w = np.square(boxes[i][j][b][2]) * IMG_WIDTH\n",
    "                new_h = np.square(boxes[i][j][b][3]) * IMG_HEIGHT\n",
    "                \n",
    "                x1 = new_box_center_x - new_w/2\n",
    "                y1 = new_box_center_y - new_h/2\n",
    "\n",
    "                x2 = new_box_center_x + new_w/2\n",
    "                y2 = new_box_center_y + new_h/2\n",
    "\n",
    "                bbs.append((math.floor(x1), math.floor(y1), math.ceil(x2), math.ceil(y2)))"
   ]
  },
  {
   "cell_type": "code",
   "execution_count": 24,
   "metadata": {},
   "outputs": [
    {
     "data": {
      "text/plain": [
       "<matplotlib.image.AxesImage at 0x7f0713b9c760>"
      ]
     },
     "execution_count": 24,
     "metadata": {},
     "output_type": "execute_result"
    },
    {
     "data": {
      "image/png": "[encoded data removed]",
      "text/plain": [
       "<Figure size 432x288 with 2 Axes>"
      ]
     },
     "metadata": {
      "needs_background": "light"
     },
     "output_type": "display_data"
    }
   ],
   "source": [
    "img = test_images[test_image_id]\n",
    "f, axs = plt.subplots(1,2)\n",
    "axs[0].imshow(img)\n",
    "\n",
    "imshow(img)\n",
    "for i, b in enumerate(bbs):\n",
    "    cv2.rectangle(img,(b[0], b[1]),(b[2], b[3]),(0,255,0),2)\n",
    "\n",
    "axs[1].imshow(img)"
   ]
  },
  {
   "cell_type": "code",
   "execution_count": null,
   "metadata": {},
   "outputs": [],
   "source": []
  }
 ],
 "metadata": {
  "kernelspec": {
   "display_name": "Python 3",
   "language": "python",
   "name": "python3"
  },
  "language_info": {
   "codemirror_mode": {
    "name": "ipython",
    "version": 3
   },
   "file_extension": ".py",
   "mimetype": "text/x-python",
   "name": "python",
   "nbconvert_exporter": "python",
   "pygments_lexer": "ipython3",
   "version": "3.8.10"
  }
 },
 "nbformat": 4,
 "nbformat_minor": 4
}
